{
 "cells": [
  {
   "cell_type": "markdown",
   "metadata": {},
   "source": [
    "# An NLP tour in the Wonderland\n",
    "### Andrew Yip\n",
    "Natural Language Processing (NLP) is a fascinating field: the first gateway towards human-friendly user experience. In sci-fi movies decades before peresonal and mobile computing, we witnessed how the public vision of how we interact with intelligent machines in ways we would interact with fellow human beings. This vision is made possible today with the advances in NLP through machine learning, deep learning, and the wide adoption of conversational interface via chatbots (Messenger, Telegram, etc.) and voice assistants (Alexa, Google Assistant).\n",
    "\n",
    "Today, we will explore a fundamental concept in NLP: Language Model. A Language Model is a probability distribution over sequences of words that affords the ability to predict the next word in the sequence. In this brief, we will build a language model via two approaches: first from scratch using a word-pair frequency approach, then with an n-gram approach to further expand the model utilizing an NLP library. Along the exploratory path, we will look at sentiments exhibited across the chapters, and uncover the relationships between the characters. We will end the tour with some pointers to expand this analysis and apply the lessons to real-world problems."
   ]
  },
  {
   "cell_type": "markdown",
   "metadata": {},
   "source": [
    "## The Problem\n",
    "1. Create a method that calculates the frequency of word pairs in a text file.\n",
    "2. Create a method that returns the word that is the most likely successor of the word that is given as a parameter."
   ]
  },
  {
   "cell_type": "markdown",
   "metadata": {},
   "source": [
    "## Data Cleaning\n",
    "Before jumping onto the task of language modeling, it is imperative to inspect the data and clean it as necessary."
   ]
  },
  {
   "cell_type": "code",
   "execution_count": 1,
   "metadata": {},
   "outputs": [
    {
     "name": "stdout",
     "output_type": "stream",
     "text": [
      "header>>\n",
      "﻿Project Gutenberg’s Alice’s Adventures in Wonderland, by Lewis Carroll\n",
      "\n",
      "This eBook is for the use of anyone anywhere at no cost and with\n",
      "almost no restrictions whatsoever.  You may copy it, give it away or\n",
      "re-use it under the terms of the Project Gutenberg License included\n",
      "with this eBook or online at www.gutenberg.org\n",
      "\n",
      "\n",
      "Title: Alice’s Adventures in Wonderland\n",
      "\n",
      "Author: Lewis Carroll\n",
      "\n",
      "Posting Date: June 25, 2008 [EBook #11]\n",
      "Release Date: March, 1994\n",
      "Last Updated: October 6, 2016\n",
      "\n",
      "footer>>\n",
      "ss a copyright notice is included.  Thus, we do not necessarily\n",
      "keep eBooks in compliance with any particular paper edition.\n",
      "\n",
      "\n",
      "Most people start at our Web site which has the main PG search facility:\n",
      "\n",
      "     http://www.gutenberg.org\n",
      "\n",
      "This Web site includes information about Project Gutenberg-tm,\n",
      "including how to make donations to the Project Gutenberg Literary\n",
      "Archive Foundation, how to help produce our new eBooks, and how to\n",
      "subscribe to our email newsletter to hear about new eBooks.\n",
      "\n"
     ]
    }
   ],
   "source": [
    "import requests\n",
    "\n",
    "# read the text directly from the internet\n",
    "response = requests.get(\"https://www.gutenberg.org/files/11/11-0.txt\")\n",
    "rawtxt = response.text\n",
    "\n",
    "# inspect the first and last 500 characters\n",
    "print(f\"header>>\\n{rawtxt[:500]}\")\n",
    "print(f\"footer>>\\n{rawtxt[-500:]}\")"
   ]
  },
  {
   "cell_type": "markdown",
   "metadata": {},
   "source": [
    "## Preprocessing\n",
    "The unicode text file is littered with eol(end-of-line) characters that should be cleaned in preprocessing. Let's look at some summary statistics of the text. Upon inspection the Project Gutenberg header and footer should be removed."
   ]
  },
  {
   "cell_type": "code",
   "execution_count": 2,
   "metadata": {},
   "outputs": [
    {
     "name": "stdout",
     "output_type": "stream",
     "text": [
      "header>>\n",
      "\n",
      "\n",
      "\n",
      "\n",
      "\n",
      "\n",
      "\n",
      "\n",
      "\n",
      "\n",
      "ALICE’S ADVENTURES IN WONDER\n",
      "footer>>e’s Adventures in Wonderland, by Lewis Carroll\n",
      "\n",
      "\n"
     ]
    }
   ],
   "source": [
    "int_txt = rawtxt.split(\"*** START OF THIS PROJECT GUTENBERG EBOOK ALICE’S ADVENTURES IN WONDERLAND ***\")[1].split(\"*** END OF THIS PROJECT GUTENBERG EBOOK ALICE’S ADVENTURES IN WONDERLAND ***\")[0]\n",
    "print(f\"header>>{int_txt[:50]}\")\n",
    "print(f\"footer>>{int_txt[-50:]}\")"
   ]
  },
  {
   "cell_type": "markdown",
   "metadata": {},
   "source": [
    "# Language Modeling\n",
    "## Language Model by frequency of word pairs\n",
    "Here's our first attempt at the language modeling problem in predicting the next word using frequency. First, tally all consecutive word pairs and their frequency across the whole book. Then write a function to look up a word, and give its most likely successor by frequency. The task is first accomplished from scratch without using any NLP library."
   ]
  },
  {
   "cell_type": "markdown",
   "metadata": {},
   "source": [
    "### From scratch"
   ]
  },
  {
   "cell_type": "code",
   "execution_count": 3,
   "metadata": {},
   "outputs": [
    {
     "data": {
      "text/plain": [
       "True"
      ]
     },
     "execution_count": 3,
     "metadata": {},
     "output_type": "execute_result"
    }
   ],
   "source": [
    "from collections import Counter\n",
    "txt_vec = int_txt.lower().split()\n",
    "txt_pairs = zip(txt_vec[:-1], txt_vec[1:])\n",
    "cnt = Counter(txt_pairs)\n",
    "def getMostLikelySuccessor(word):\n",
    "    return sorted([(cnt[x], x) for x in cnt if x[0].startswith(word.lower())], reverse=True)[0][1][1]\n",
    "\n",
    "[getMostLikelySuccessor(x) for x in [\"Alice\", \"was\", \"at\"]] == [\"was\", \"a\", \"the\"]"
   ]
  },
  {
   "cell_type": "markdown",
   "metadata": {},
   "source": [
    "### Using NLP libraries\n",
    "Next, we perform the same task then further explore the text using the textacy library, which affords convenient text preprocessing methods."
   ]
  },
  {
   "cell_type": "code",
   "execution_count": 4,
   "metadata": {},
   "outputs": [],
   "source": [
    "import textacy\n",
    "doc = textacy.Doc(textacy.preprocess_text(int_txt))\n",
    "bot2 = doc.to_bag_of_terms(ngrams=2, as_strings=True, normalize=\"lower\", named_entities=False, filter_stops=False)"
   ]
  },
  {
   "cell_type": "code",
   "execution_count": 5,
   "metadata": {},
   "outputs": [
    {
     "data": {
      "text/plain": [
       "True"
      ]
     },
     "execution_count": 5,
     "metadata": {},
     "output_type": "execute_result"
    }
   ],
   "source": [
    "def getNextWord(word, bot, n):\n",
    "    try:\n",
    "        return sorted([(y, x) for x, y in bot.items() if x.startswith(word.lower())], reverse=True)[0][1].split(\" \")[n-1]\n",
    "    except IndexError:\n",
    "        return \"<EOL>\"\n",
    "\n",
    "[getNextWord(x, bot2, 2) for  x in [\"Alice\", \"was\", \"at\"]] == [\"was\", \"a\", \"the\"]"
   ]
  },
  {
   "cell_type": "markdown",
   "metadata": {},
   "source": [
    "### Remarks\n",
    "What we just built was a bigram language model based on frequency. However, bigrams are not very good in preserving word coherence in the sequence."
   ]
  },
  {
   "cell_type": "code",
   "execution_count": 6,
   "metadata": {},
   "outputs": [
    {
     "data": {
      "text/plain": [
       "'Alice was a the queen <EOL>'"
      ]
     },
     "execution_count": 6,
     "metadata": {},
     "output_type": "execute_result"
    }
   ],
   "source": [
    "def textGen(seed, bot, m, n):\n",
    "    '''seed: the first word, bot: bag of terms, m: number of words in the sequence'''\n",
    "    result = seed.split(\" \")\n",
    "    seed = \" \".join(result[-n+1:])\n",
    "    for i in range(m):\n",
    "        if \"<EOL>\" not in result:\n",
    "            new_word = getNextWord(seed, bot, n)\n",
    "            result.append(new_word)\n",
    "            if n > 2:\n",
    "                seed = \" \".join(result[-n+1:])\n",
    "            else:\n",
    "                seed = new_word\n",
    "    return \" \".join(result)\n",
    "\n",
    "textGen(\"Alice\", bot2, 10, 2)"
   ]
  },
  {
   "cell_type": "markdown",
   "metadata": {},
   "source": [
    "Let's modify the current language model to include larger n-grams, say trigrams (3) and 4-gram and compare the results."
   ]
  },
  {
   "cell_type": "code",
   "execution_count": 7,
   "metadata": {},
   "outputs": [
    {
     "data": {
      "text/plain": [
       "['2-gram: Alice was going to the queen <EOL>',\n",
       " '3-gram: Alice was going to begin with,’ the mock turtle said with some surprise that the was <EOL>',\n",
       " '4-gram: Alice was going to shrink any further <EOL>']"
      ]
     },
     "execution_count": 7,
     "metadata": {},
     "output_type": "execute_result"
    }
   ],
   "source": [
    "[f'{n}-gram: {textGen(\"Alice was going to\", doc.to_bag_of_terms(ngrams=n, as_strings=True, normalize=\"lower\", named_entities=False, filter_stops=False), 20, n)}' for n in range(2, 5)]\n",
    " \n",
    " "
   ]
  },
  {
   "cell_type": "markdown",
   "metadata": {},
   "source": [
    "In the case of the 4-gram, it has become so restrictive (due to a large n and a relatively short story) that an original line from the book was returned."
   ]
  },
  {
   "cell_type": "markdown",
   "metadata": {},
   "source": [
    "# Exploratory Data Analysis"
   ]
  },
  {
   "cell_type": "markdown",
   "metadata": {},
   "source": [
    "## Word frequency by chapter\n",
    "It is often helpful to perform summary statistics to have an idea of the \"shape\" of the data. It is especially important to spot imbalanced classes due to data availability to avoid biases. Here we inpsect the various basic word counts in each chapter of the text. The chapters are well balanced except for a slightly shorter chapter 3 (A Caucus-Race and a Long Tale). Chapter 6 (Pig and Pepper) demonstrates a relative lack of word diversity per sentence. Curiously enough, that is the chapter where the quote \"How do you know I'm mad\" lives."
   ]
  },
  {
   "cell_type": "code",
   "execution_count": 8,
   "metadata": {},
   "outputs": [
    {
     "data": {
      "text/html": [
       "<div>\n",
       "<style scoped>\n",
       "    .dataframe tbody tr th:only-of-type {\n",
       "        vertical-align: middle;\n",
       "    }\n",
       "\n",
       "    .dataframe tbody tr th {\n",
       "        vertical-align: top;\n",
       "    }\n",
       "\n",
       "    .dataframe thead th {\n",
       "        text-align: right;\n",
       "    }\n",
       "</style>\n",
       "<table border=\"1\" class=\"dataframe\">\n",
       "  <thead>\n",
       "    <tr style=\"text-align: right;\">\n",
       "      <th></th>\n",
       "      <th>n_chars</th>\n",
       "      <th>n_long_words</th>\n",
       "      <th>n_monosyllable_words</th>\n",
       "      <th>n_polysyllable_words</th>\n",
       "      <th>n_sents</th>\n",
       "      <th>n_syllables</th>\n",
       "      <th>n_unique_words</th>\n",
       "      <th>n_words</th>\n",
       "      <th>chapter</th>\n",
       "      <th>unique_word_ratio</th>\n",
       "    </tr>\n",
       "  </thead>\n",
       "  <tbody>\n",
       "    <tr>\n",
       "      <th>0</th>\n",
       "      <td>8722</td>\n",
       "      <td>233</td>\n",
       "      <td>1765</td>\n",
       "      <td>63</td>\n",
       "      <td>106</td>\n",
       "      <td>2697</td>\n",
       "      <td>632</td>\n",
       "      <td>2191</td>\n",
       "      <td>1</td>\n",
       "      <td>5.962264</td>\n",
       "    </tr>\n",
       "    <tr>\n",
       "      <th>1</th>\n",
       "      <td>8388</td>\n",
       "      <td>218</td>\n",
       "      <td>1840</td>\n",
       "      <td>56</td>\n",
       "      <td>132</td>\n",
       "      <td>2597</td>\n",
       "      <td>633</td>\n",
       "      <td>2186</td>\n",
       "      <td>2</td>\n",
       "      <td>4.795455</td>\n",
       "    </tr>\n",
       "    <tr>\n",
       "      <th>2</th>\n",
       "      <td>7070</td>\n",
       "      <td>225</td>\n",
       "      <td>1396</td>\n",
       "      <td>71</td>\n",
       "      <td>119</td>\n",
       "      <td>2166</td>\n",
       "      <td>598</td>\n",
       "      <td>1739</td>\n",
       "      <td>3</td>\n",
       "      <td>5.025210</td>\n",
       "    </tr>\n",
       "    <tr>\n",
       "      <th>3</th>\n",
       "      <td>10709</td>\n",
       "      <td>294</td>\n",
       "      <td>2215</td>\n",
       "      <td>67</td>\n",
       "      <td>167</td>\n",
       "      <td>3318</td>\n",
       "      <td>737</td>\n",
       "      <td>2727</td>\n",
       "      <td>4</td>\n",
       "      <td>4.413174</td>\n",
       "    </tr>\n",
       "    <tr>\n",
       "      <th>4</th>\n",
       "      <td>9130</td>\n",
       "      <td>303</td>\n",
       "      <td>1824</td>\n",
       "      <td>101</td>\n",
       "      <td>136</td>\n",
       "      <td>2774</td>\n",
       "      <td>664</td>\n",
       "      <td>2240</td>\n",
       "      <td>5</td>\n",
       "      <td>4.882353</td>\n",
       "    </tr>\n",
       "    <tr>\n",
       "      <th>5</th>\n",
       "      <td>10660</td>\n",
       "      <td>333</td>\n",
       "      <td>2188</td>\n",
       "      <td>89</td>\n",
       "      <td>149</td>\n",
       "      <td>3265</td>\n",
       "      <td>726</td>\n",
       "      <td>2669</td>\n",
       "      <td>6</td>\n",
       "      <td>4.872483</td>\n",
       "    </tr>\n",
       "    <tr>\n",
       "      <th>6</th>\n",
       "      <td>9781</td>\n",
       "      <td>285</td>\n",
       "      <td>1910</td>\n",
       "      <td>73</td>\n",
       "      <td>172</td>\n",
       "      <td>2942</td>\n",
       "      <td>678</td>\n",
       "      <td>2381</td>\n",
       "      <td>7</td>\n",
       "      <td>3.941860</td>\n",
       "    </tr>\n",
       "    <tr>\n",
       "      <th>7</th>\n",
       "      <td>10638</td>\n",
       "      <td>352</td>\n",
       "      <td>2053</td>\n",
       "      <td>116</td>\n",
       "      <td>122</td>\n",
       "      <td>3211</td>\n",
       "      <td>688</td>\n",
       "      <td>2556</td>\n",
       "      <td>8</td>\n",
       "      <td>5.639344</td>\n",
       "    </tr>\n",
       "    <tr>\n",
       "      <th>8</th>\n",
       "      <td>9777</td>\n",
       "      <td>328</td>\n",
       "      <td>1906</td>\n",
       "      <td>77</td>\n",
       "      <td>145</td>\n",
       "      <td>2902</td>\n",
       "      <td>712</td>\n",
       "      <td>2355</td>\n",
       "      <td>9</td>\n",
       "      <td>4.910345</td>\n",
       "    </tr>\n",
       "    <tr>\n",
       "      <th>9</th>\n",
       "      <td>8802</td>\n",
       "      <td>315</td>\n",
       "      <td>1727</td>\n",
       "      <td>89</td>\n",
       "      <td>152</td>\n",
       "      <td>2568</td>\n",
       "      <td>627</td>\n",
       "      <td>2097</td>\n",
       "      <td>10</td>\n",
       "      <td>4.125000</td>\n",
       "    </tr>\n",
       "    <tr>\n",
       "      <th>10</th>\n",
       "      <td>8029</td>\n",
       "      <td>254</td>\n",
       "      <td>1589</td>\n",
       "      <td>69</td>\n",
       "      <td>121</td>\n",
       "      <td>2378</td>\n",
       "      <td>575</td>\n",
       "      <td>1942</td>\n",
       "      <td>11</td>\n",
       "      <td>4.752066</td>\n",
       "    </tr>\n",
       "    <tr>\n",
       "      <th>11</th>\n",
       "      <td>9046</td>\n",
       "      <td>268</td>\n",
       "      <td>1785</td>\n",
       "      <td>91</td>\n",
       "      <td>127</td>\n",
       "      <td>2718</td>\n",
       "      <td>696</td>\n",
       "      <td>2198</td>\n",
       "      <td>12</td>\n",
       "      <td>5.480315</td>\n",
       "    </tr>\n",
       "  </tbody>\n",
       "</table>\n",
       "</div>"
      ],
      "text/plain": [
       "    n_chars  n_long_words  n_monosyllable_words  n_polysyllable_words  \\\n",
       "0      8722           233                  1765                    63   \n",
       "1      8388           218                  1840                    56   \n",
       "2      7070           225                  1396                    71   \n",
       "3     10709           294                  2215                    67   \n",
       "4      9130           303                  1824                   101   \n",
       "5     10660           333                  2188                    89   \n",
       "6      9781           285                  1910                    73   \n",
       "7     10638           352                  2053                   116   \n",
       "8      9777           328                  1906                    77   \n",
       "9      8802           315                  1727                    89   \n",
       "10     8029           254                  1589                    69   \n",
       "11     9046           268                  1785                    91   \n",
       "\n",
       "    n_sents  n_syllables  n_unique_words  n_words  chapter  unique_word_ratio  \n",
       "0       106         2697             632     2191        1           5.962264  \n",
       "1       132         2597             633     2186        2           4.795455  \n",
       "2       119         2166             598     1739        3           5.025210  \n",
       "3       167         3318             737     2727        4           4.413174  \n",
       "4       136         2774             664     2240        5           4.882353  \n",
       "5       149         3265             726     2669        6           4.872483  \n",
       "6       172         2942             678     2381        7           3.941860  \n",
       "7       122         3211             688     2556        8           5.639344  \n",
       "8       145         2902             712     2355        9           4.910345  \n",
       "9       152         2568             627     2097       10           4.125000  \n",
       "10      121         2378             575     1942       11           4.752066  \n",
       "11      127         2718             696     2198       12           5.480315  "
      ]
     },
     "execution_count": 8,
     "metadata": {},
     "output_type": "execute_result"
    }
   ],
   "source": [
    "import pandas as pd\n",
    "chapters = textacy.preprocess_text(int_txt).split(\"CHAPTER\")[1:]\n",
    "corp = textacy.Corpus(\"en\", chapters)\n",
    "ts = [textacy.TextStats(x) for x in corp]\n",
    "basic_counts = pd.DataFrame([x.basic_counts for x in ts])\n",
    "basic_counts[\"chapter\"] = range(1, 13)\n",
    "basic_counts[\"unique_word_ratio\"] = basic_counts['n_unique_words'] / basic_counts['n_sents']\n",
    "basic_counts"
   ]
  },
  {
   "cell_type": "markdown",
   "metadata": {},
   "source": [
    "## Sentiments across the chapters\n",
    "Sentiment analysis concerns quantifying the polarity of emotion expressed in a text ranging from negative (-1), neutral (0), to positive (1). Subjectivity measures whether the text is objective (0) or subjective (1) with a varying degree. We will briefly explore the sentiments across the chapters using the TextBlob library, which provides a simplified interface for sentiment analysis at various levels of the text (chapter, sentence, etc.)."
   ]
  },
  {
   "cell_type": "code",
   "execution_count": 9,
   "metadata": {},
   "outputs": [
    {
     "data": {
      "text/html": [
       "<div>\n",
       "<style scoped>\n",
       "    .dataframe tbody tr th:only-of-type {\n",
       "        vertical-align: middle;\n",
       "    }\n",
       "\n",
       "    .dataframe tbody tr th {\n",
       "        vertical-align: top;\n",
       "    }\n",
       "\n",
       "    .dataframe thead th {\n",
       "        text-align: right;\n",
       "    }\n",
       "</style>\n",
       "<table border=\"1\" class=\"dataframe\">\n",
       "  <thead>\n",
       "    <tr style=\"text-align: right;\">\n",
       "      <th></th>\n",
       "      <th>polarity</th>\n",
       "      <th>subjectivity</th>\n",
       "      <th>chapter</th>\n",
       "    </tr>\n",
       "  </thead>\n",
       "  <tbody>\n",
       "    <tr>\n",
       "      <th>0</th>\n",
       "      <td>0.027015</td>\n",
       "      <td>0.502594</td>\n",
       "      <td>1</td>\n",
       "    </tr>\n",
       "    <tr>\n",
       "      <th>1</th>\n",
       "      <td>0.026922</td>\n",
       "      <td>0.511728</td>\n",
       "      <td>2</td>\n",
       "    </tr>\n",
       "    <tr>\n",
       "      <th>2</th>\n",
       "      <td>0.037310</td>\n",
       "      <td>0.458711</td>\n",
       "      <td>3</td>\n",
       "    </tr>\n",
       "    <tr>\n",
       "      <th>3</th>\n",
       "      <td>0.036413</td>\n",
       "      <td>0.501831</td>\n",
       "      <td>4</td>\n",
       "    </tr>\n",
       "    <tr>\n",
       "      <th>4</th>\n",
       "      <td>0.006358</td>\n",
       "      <td>0.469411</td>\n",
       "      <td>5</td>\n",
       "    </tr>\n",
       "  </tbody>\n",
       "</table>\n",
       "</div>"
      ],
      "text/plain": [
       "   polarity  subjectivity  chapter\n",
       "0  0.027015      0.502594        1\n",
       "1  0.026922      0.511728        2\n",
       "2  0.037310      0.458711        3\n",
       "3  0.036413      0.501831        4\n",
       "4  0.006358      0.469411        5"
      ]
     },
     "execution_count": 9,
     "metadata": {},
     "output_type": "execute_result"
    }
   ],
   "source": [
    "from textblob import TextBlob\n",
    "tb = [TextBlob(chapter) for chapter in chapters]\n",
    "sentiment = pd.DataFrame([chapter.sentiment for chapter in tb])\n",
    "sentiment[\"chapter\"] = range(1, 13)\n",
    "sentiment.head()"
   ]
  },
  {
   "cell_type": "code",
   "execution_count": 10,
   "metadata": {},
   "outputs": [
    {
     "data": {
      "image/png": "[encoded data removed]",
      "text/plain": [
       "<Figure size 432x288 with 1 Axes>"
      ]
     },
     "metadata": {},
     "output_type": "display_data"
    }
   ],
   "source": [
    "import matplotlib.pyplot as plt\n",
    "plt.style.use('fivethirtyeight')\n",
    "polarity = [sentence.sentiment.polarity for chapter in tb for sentence in chapter.sentences]\n",
    "plt.scatter(x=list(range(len(polarity))), y=polarity);"
   ]
  },
  {
   "cell_type": "code",
   "execution_count": 11,
   "metadata": {},
   "outputs": [
    {
     "data": {
      "image/png": "[encoded data removed]",
      "text/plain": [
       "<Figure size 432x288 with 1 Axes>"
      ]
     },
     "metadata": {},
     "output_type": "display_data"
    }
   ],
   "source": [
    "# relationship between subjectivity and polarity\n",
    "subjectivity = [sentence.sentiment.subjectivity for chapter in tb for sentence in chapter.sentences]\n",
    "plt.scatter(x=polarity, y=subjectivity);"
   ]
  },
  {
   "cell_type": "markdown",
   "metadata": {},
   "source": [
    "We observe a slight positive trend in the sentiment polarity as the plot progresses. And that there's a positive correspondence between subjectivity and the magnitude in polarity.\n",
    "\n",
    "## Characters appearance across chapters\n",
    "It would be of interest correlate characters and the associated sentiment variation in the plot. A first step would be to count the character appearances per chapter. The list of characters is extracted from [this site](http://www.alice-in-wonderland.net/resources/analysis/character-descriptions/)."
   ]
  },
  {
   "cell_type": "code",
   "execution_count": 12,
   "metadata": {},
   "outputs": [
    {
     "data": {
      "text/html": [
       "<div>\n",
       "<style scoped>\n",
       "    .dataframe tbody tr th:only-of-type {\n",
       "        vertical-align: middle;\n",
       "    }\n",
       "\n",
       "    .dataframe tbody tr th {\n",
       "        vertical-align: top;\n",
       "    }\n",
       "\n",
       "    .dataframe thead th {\n",
       "        text-align: right;\n",
       "    }\n",
       "</style>\n",
       "<table border=\"1\" class=\"dataframe\">\n",
       "  <thead>\n",
       "    <tr style=\"text-align: right;\">\n",
       "      <th></th>\n",
       "      <th>alice</th>\n",
       "      <th>baby</th>\n",
       "      <th>bill</th>\n",
       "      <th>cat</th>\n",
       "      <th>caterpillar</th>\n",
       "      <th>cheshire</th>\n",
       "      <th>cook</th>\n",
       "      <th>crab</th>\n",
       "      <th>dinah</th>\n",
       "      <th>dodo</th>\n",
       "      <th>...</th>\n",
       "      <th>pigeon</th>\n",
       "      <th>puppy</th>\n",
       "      <th>queen</th>\n",
       "      <th>rabbit</th>\n",
       "      <th>seven</th>\n",
       "      <th>sister</th>\n",
       "      <th>tillie</th>\n",
       "      <th>turtle</th>\n",
       "      <th>two</th>\n",
       "      <th>chapter</th>\n",
       "    </tr>\n",
       "  </thead>\n",
       "  <tbody>\n",
       "    <tr>\n",
       "      <th>0</th>\n",
       "      <td>28</td>\n",
       "      <td>0</td>\n",
       "      <td>0</td>\n",
       "      <td>5</td>\n",
       "      <td>0</td>\n",
       "      <td>0</td>\n",
       "      <td>0</td>\n",
       "      <td>0</td>\n",
       "      <td>5</td>\n",
       "      <td>0</td>\n",
       "      <td>...</td>\n",
       "      <td>0</td>\n",
       "      <td>0</td>\n",
       "      <td>0</td>\n",
       "      <td>6</td>\n",
       "      <td>0</td>\n",
       "      <td>2</td>\n",
       "      <td>0</td>\n",
       "      <td>0</td>\n",
       "      <td>2</td>\n",
       "      <td>1</td>\n",
       "    </tr>\n",
       "    <tr>\n",
       "      <th>1</th>\n",
       "      <td>26</td>\n",
       "      <td>0</td>\n",
       "      <td>0</td>\n",
       "      <td>8</td>\n",
       "      <td>0</td>\n",
       "      <td>0</td>\n",
       "      <td>0</td>\n",
       "      <td>0</td>\n",
       "      <td>1</td>\n",
       "      <td>1</td>\n",
       "      <td>...</td>\n",
       "      <td>0</td>\n",
       "      <td>0</td>\n",
       "      <td>0</td>\n",
       "      <td>4</td>\n",
       "      <td>1</td>\n",
       "      <td>0</td>\n",
       "      <td>0</td>\n",
       "      <td>0</td>\n",
       "      <td>1</td>\n",
       "      <td>2</td>\n",
       "    </tr>\n",
       "    <tr>\n",
       "      <th>2</th>\n",
       "      <td>23</td>\n",
       "      <td>0</td>\n",
       "      <td>0</td>\n",
       "      <td>2</td>\n",
       "      <td>0</td>\n",
       "      <td>0</td>\n",
       "      <td>0</td>\n",
       "      <td>2</td>\n",
       "      <td>5</td>\n",
       "      <td>12</td>\n",
       "      <td>...</td>\n",
       "      <td>0</td>\n",
       "      <td>0</td>\n",
       "      <td>0</td>\n",
       "      <td>0</td>\n",
       "      <td>0</td>\n",
       "      <td>0</td>\n",
       "      <td>0</td>\n",
       "      <td>0</td>\n",
       "      <td>1</td>\n",
       "      <td>3</td>\n",
       "    </tr>\n",
       "    <tr>\n",
       "      <th>3</th>\n",
       "      <td>31</td>\n",
       "      <td>0</td>\n",
       "      <td>14</td>\n",
       "      <td>0</td>\n",
       "      <td>1</td>\n",
       "      <td>0</td>\n",
       "      <td>0</td>\n",
       "      <td>0</td>\n",
       "      <td>3</td>\n",
       "      <td>0</td>\n",
       "      <td>...</td>\n",
       "      <td>0</td>\n",
       "      <td>7</td>\n",
       "      <td>0</td>\n",
       "      <td>15</td>\n",
       "      <td>0</td>\n",
       "      <td>0</td>\n",
       "      <td>0</td>\n",
       "      <td>0</td>\n",
       "      <td>4</td>\n",
       "      <td>4</td>\n",
       "    </tr>\n",
       "    <tr>\n",
       "      <th>4</th>\n",
       "      <td>35</td>\n",
       "      <td>0</td>\n",
       "      <td>0</td>\n",
       "      <td>0</td>\n",
       "      <td>26</td>\n",
       "      <td>0</td>\n",
       "      <td>0</td>\n",
       "      <td>0</td>\n",
       "      <td>0</td>\n",
       "      <td>0</td>\n",
       "      <td>...</td>\n",
       "      <td>12</td>\n",
       "      <td>0</td>\n",
       "      <td>0</td>\n",
       "      <td>0</td>\n",
       "      <td>0</td>\n",
       "      <td>0</td>\n",
       "      <td>0</td>\n",
       "      <td>0</td>\n",
       "      <td>3</td>\n",
       "      <td>5</td>\n",
       "    </tr>\n",
       "  </tbody>\n",
       "</table>\n",
       "<p>5 rows × 40 columns</p>\n",
       "</div>"
      ],
      "text/plain": [
       "   alice  baby  bill  cat  caterpillar  cheshire  cook  crab  dinah  dodo  \\\n",
       "0     28     0     0    5            0         0     0     0      5     0   \n",
       "1     26     0     0    8            0         0     0     0      1     1   \n",
       "2     23     0     0    2            0         0     0     2      5    12   \n",
       "3     31     0    14    0            1         0     0     0      3     0   \n",
       "4     35     0     0    0           26         0     0     0      0     0   \n",
       "\n",
       "    ...     pigeon  puppy  queen  rabbit  seven  sister  tillie  turtle  two  \\\n",
       "0   ...          0      0      0       6      0       2       0       0    2   \n",
       "1   ...          0      0      0       4      1       0       0       0    1   \n",
       "2   ...          0      0      0       0      0       0       0       0    1   \n",
       "3   ...          0      7      0      15      0       0       0       0    4   \n",
       "4   ...         12      0      0       0      0       0       0       0    3   \n",
       "\n",
       "   chapter  \n",
       "0        1  \n",
       "1        2  \n",
       "2        3  \n",
       "3        4  \n",
       "4        5  \n",
       "\n",
       "[5 rows x 40 columns]"
      ]
     },
     "execution_count": 12,
     "metadata": {},
     "output_type": "execute_result"
    }
   ],
   "source": [
    "from collections import defaultdict\n",
    "chars = ['alice', 'rabbit', 'caterpillar', 'cat', 'cheshire', 'queen', 'sister', 'dinah', 'mouse', 'duck', 'dodo', 'lory', 'eaglet', 'crab', 'mary', 'pat','bill', 'guinea', 'puppy', 'pigeon', 'frog-footman', 'fish-footman', 'duchess', 'baby', 'cook', 'march', 'dormouse', 'elsie', 'lacie', 'tillie', 'five', 'seven', 'two', 'knave', 'king', 'flamingos', 'grphon', 'turtle', 'juror']\n",
    "char_counts = defaultdict(list)\n",
    "for chapter in tb:\n",
    "    for char in chars:\n",
    "        char_counts[char].append(chapter.words.lemmatize().count(char))\n",
    "char_counts = pd.DataFrame(char_counts)\n",
    "char_counts[\"chapter\"] = range(1, 13) \n",
    "char_counts.head()\n",
    "# WIP: to collect and plot major character apperances across chapters"
   ]
  },
  {
   "cell_type": "markdown",
   "metadata": {},
   "source": [
    "## Social Network in the Wonderland\n",
    "It would be very informative to visualize the characters' social network in the wonderland. Our first approach identifies and counts the cooccurrences of characters in nearby words, then computes some centrality metrics concerning the nodes that indicates their relative importance. Betweeness quantifies the number of times a node acts as a bridge along the shortest path between two other nodes. The number of cliques (or complete sub-graphs) indicate how many tightly related community a node (character) is in. The visualized graph is created using Cytoscape, where the size of the node indicates the node betweeness, the size of the node label (name) indicates the number of cliques the character is in, and the thinkness of the edge indicates counts of cooccurrences.\n",
    "![Alice Social Network](http://andrewyip.me/alice/graph.png \"Alice Social Network\")"
   ]
  },
  {
   "cell_type": "code",
   "execution_count": 13,
   "metadata": {},
   "outputs": [],
   "source": [
    "import networkx as nx\n",
    "g = doc.to_semantic_network()\n",
    "g.remove_edges_from(g.selfloop_edges())"
   ]
  },
  {
   "cell_type": "code",
   "execution_count": 14,
   "metadata": {},
   "outputs": [],
   "source": [
    "from networkx.algorithms import community\n",
    "sub_g = g.subgraph(chars)\n",
    "\n",
    "for node, attr in nx.betweenness_centrality(sub_g).items():\n",
    "    sub_g.nodes[node]['betweeness'] = attr\n",
    "    \n",
    "for node, attr in nx.number_of_cliques(sub_g).items():\n",
    "    sub_g.nodes[node]['n_cliques'] = attr\n",
    "\n",
    "# nx.write_graphml(sub_g, \"data/sub_g_clique.graphml\")"
   ]
  },
  {
   "cell_type": "markdown",
   "metadata": {},
   "source": [
    "# Next Steps\n",
    "\n",
    "Thank you for taking this quick tour with me in the wonderland. There is a lot more to explore, for example:\n",
    "\n",
    "- Sophisticated language models beyond word frequency (such as those based on recurrent neural networks (RNN))\n",
    "- Accurate character identification in text using part of speech (POS)\n",
    "- Subtle insights into character relationship via the sentiment in their dialogues with each other\n",
    "\n",
    "Feel free to read [this](http://www.alice-in-wonderland.net/resources/analysis/) if you want to dive deeper into the source material and its literary analyses.\n",
    "\n",
    "Got questions or suggestions? Open an issue [here](https://github.com/yipcma/alice/issues)"
   ]
  }
 ],
 "metadata": {
  "kernelspec": {
   "display_name": "Python 3",
   "language": "python",
   "name": "python3"
  },
  "language_info": {
   "codemirror_mode": {
    "name": "ipython",
    "version": 3
   },
   "file_extension": ".py",
   "mimetype": "text/x-python",
   "name": "python",
   "nbconvert_exporter": "python",
   "pygments_lexer": "ipython3",
   "version": "3.6.5"
  }
 },
 "nbformat": 4,
 "nbformat_minor": 2
}
